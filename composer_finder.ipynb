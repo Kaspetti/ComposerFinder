{
 "cells": [
  {
   "cell_type": "code",
   "execution_count": 56,
   "metadata": {},
   "outputs": [],
   "source": [
    "from sklearn import model_selection, neighbors, tree, neural_network\n",
    "import numpy as np\n",
    "import sheet_music_parser as smp"
   ]
  },
  {
   "cell_type": "code",
   "execution_count": 57,
   "metadata": {},
   "outputs": [
    {
     "data": {
      "text/plain": [
       "array([[[0.70004, 0.     , 0.     , ..., 0.     , 0.     , 0.     ],\n",
       "        [0.79108, 0.79004, 0.77004, ..., 0.     , 0.     , 0.     ],\n",
       "        [0.79008, 0.72004, 0.84008, ..., 0.     , 0.     , 0.     ],\n",
       "        ...,\n",
       "        [0.     , 0.     , 0.     , ..., 0.     , 0.     , 0.     ],\n",
       "        [0.39004, 0.58004, 0.46004, ..., 0.     , 0.     , 0.     ],\n",
       "        [0.51108, 0.58108, 0.63108, ..., 0.     , 0.     , 0.     ]],\n",
       "\n",
       "       [[0.70004, 0.     , 0.     , ..., 0.     , 0.     , 0.     ],\n",
       "        [0.79108, 0.79004, 0.77004, ..., 0.     , 0.     , 0.     ],\n",
       "        [0.79008, 0.72004, 0.84008, ..., 0.     , 0.     , 0.     ],\n",
       "        ...,\n",
       "        [0.     , 0.     , 0.     , ..., 0.     , 0.     , 0.     ],\n",
       "        [0.39004, 0.58004, 0.46004, ..., 0.     , 0.     , 0.     ],\n",
       "        [0.51108, 0.58108, 0.63108, ..., 0.     , 0.     , 0.     ]]])"
      ]
     },
     "execution_count": 57,
     "metadata": {},
     "output_type": "execute_result"
    }
   ],
   "source": [
    "A = smp.parseXML(\"Nocturne.mscx\")\n",
    "B = smp.parseXML(\"Nocturne.mscx\")\n",
    "\n",
    "ab = np.array([A, B])\n",
    "np.save(\"testsave.npy\", ab)"
   ]
  },
  {
   "cell_type": "code",
   "execution_count": null,
   "metadata": {},
   "outputs": [],
   "source": []
  }
 ],
 "metadata": {
  "kernelspec": {
   "display_name": "Python 3",
   "language": "python",
   "name": "python3"
  },
  "language_info": {
   "codemirror_mode": {
    "name": "ipython",
    "version": 3
   },
   "file_extension": ".py",
   "mimetype": "text/x-python",
   "name": "python",
   "nbconvert_exporter": "python",
   "pygments_lexer": "ipython3",
   "version": "3.10.7"
  },
  "orig_nbformat": 4
 },
 "nbformat": 4,
 "nbformat_minor": 2
}
