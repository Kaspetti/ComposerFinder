{
 "cells": [
  {
   "cell_type": "code",
   "execution_count": 2,
   "metadata": {},
   "outputs": [],
   "source": [
    "from sklearn import model_selection, neighbors, tree, neural_network\n",
    "import numpy as np\n",
    "import sheet_music_parser as smp"
   ]
  },
  {
   "cell_type": "code",
   "execution_count": 3,
   "metadata": {},
   "outputs": [
    {
     "ename": "FileNotFoundError",
     "evalue": "[Errno 2] No such file or directory: 'Nocturne.mscx'",
     "output_type": "error",
     "traceback": [
      "\u001b[0;31m---------------------------------------------------------------------------\u001b[0m",
      "\u001b[0;31mFileNotFoundError\u001b[0m                         Traceback (most recent call last)",
      "Cell \u001b[0;32mIn[3], line 1\u001b[0m\n\u001b[0;32m----> 1\u001b[0m A \u001b[39m=\u001b[39m smp\u001b[39m.\u001b[39;49mparseXML(\u001b[39m\"\u001b[39;49m\u001b[39mNocturne.mscx\u001b[39;49m\u001b[39m\"\u001b[39;49m)\n\u001b[1;32m      2\u001b[0m B \u001b[39m=\u001b[39m smp\u001b[39m.\u001b[39mparseXML(\u001b[39m\"\u001b[39m\u001b[39mNocturne.mscx\u001b[39m\u001b[39m\"\u001b[39m)\n\u001b[1;32m      4\u001b[0m ab \u001b[39m=\u001b[39m np\u001b[39m.\u001b[39marray([A, B])\n",
      "File \u001b[0;32m~/Documents/Development/ComposerFinder/sheet_music_parser.py:24\u001b[0m, in \u001b[0;36mparseXML\u001b[0;34m(file)\u001b[0m\n\u001b[1;32m     21\u001b[0m parsed_staff_1 \u001b[39m=\u001b[39m []\n\u001b[1;32m     22\u001b[0m parsed_staff_2 \u001b[39m=\u001b[39m []\n\u001b[0;32m---> 24\u001b[0m tree \u001b[39m=\u001b[39m ET\u001b[39m.\u001b[39;49mparse(file)\n\u001b[1;32m     25\u001b[0m root \u001b[39m=\u001b[39m tree\u001b[39m.\u001b[39mgetroot()\n\u001b[1;32m     26\u001b[0m staves \u001b[39m=\u001b[39m root\u001b[39m.\u001b[39mfindall(\u001b[39m\"\u001b[39m\u001b[39m./Score/Staff\u001b[39m\u001b[39m\"\u001b[39m)\n",
      "File \u001b[0;32m/usr/lib/python3.10/xml/etree/ElementTree.py:1222\u001b[0m, in \u001b[0;36mparse\u001b[0;34m(source, parser)\u001b[0m\n\u001b[1;32m   1213\u001b[0m \u001b[39m\u001b[39m\u001b[39m\"\"\"Parse XML document into element tree.\u001b[39;00m\n\u001b[1;32m   1214\u001b[0m \n\u001b[1;32m   1215\u001b[0m \u001b[39m*source* is a filename or file object containing XML data,\u001b[39;00m\n\u001b[0;32m   (...)\u001b[0m\n\u001b[1;32m   1219\u001b[0m \n\u001b[1;32m   1220\u001b[0m \u001b[39m\"\"\"\u001b[39;00m\n\u001b[1;32m   1221\u001b[0m tree \u001b[39m=\u001b[39m ElementTree()\n\u001b[0;32m-> 1222\u001b[0m tree\u001b[39m.\u001b[39;49mparse(source, parser)\n\u001b[1;32m   1223\u001b[0m \u001b[39mreturn\u001b[39;00m tree\n",
      "File \u001b[0;32m/usr/lib/python3.10/xml/etree/ElementTree.py:569\u001b[0m, in \u001b[0;36mElementTree.parse\u001b[0;34m(self, source, parser)\u001b[0m\n\u001b[1;32m    567\u001b[0m close_source \u001b[39m=\u001b[39m \u001b[39mFalse\u001b[39;00m\n\u001b[1;32m    568\u001b[0m \u001b[39mif\u001b[39;00m \u001b[39mnot\u001b[39;00m \u001b[39mhasattr\u001b[39m(source, \u001b[39m\"\u001b[39m\u001b[39mread\u001b[39m\u001b[39m\"\u001b[39m):\n\u001b[0;32m--> 569\u001b[0m     source \u001b[39m=\u001b[39m \u001b[39mopen\u001b[39;49m(source, \u001b[39m\"\u001b[39;49m\u001b[39mrb\u001b[39;49m\u001b[39m\"\u001b[39;49m)\n\u001b[1;32m    570\u001b[0m     close_source \u001b[39m=\u001b[39m \u001b[39mTrue\u001b[39;00m\n\u001b[1;32m    571\u001b[0m \u001b[39mtry\u001b[39;00m:\n",
      "\u001b[0;31mFileNotFoundError\u001b[0m: [Errno 2] No such file or directory: 'Nocturne.mscx'"
     ]
    }
   ],
   "source": [
    "A = smp.parseXML(\"Nocturne.mscx\")\n",
    "B = smp.parseXML(\"Nocturne.mscx\")\n",
    "\n",
    "ab = np.array([A, B])\n",
    "np.save(\"testsave.npy\", ab)"
   ]
  },
  {
   "cell_type": "code",
   "execution_count": null,
   "metadata": {},
   "outputs": [],
   "source": []
  }
 ],
 "metadata": {
  "kernelspec": {
   "display_name": "Python 3",
   "language": "python",
   "name": "python3"
  },
  "language_info": {
   "codemirror_mode": {
    "name": "ipython",
    "version": 3
   },
   "file_extension": ".py",
   "mimetype": "text/x-python",
   "name": "python",
   "nbconvert_exporter": "python",
   "pygments_lexer": "ipython3",
   "version": "3.10.10"
  },
  "orig_nbformat": 4
 },
 "nbformat": 4,
 "nbformat_minor": 2
}
